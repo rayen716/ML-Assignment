{
 "cells": [
  {
   "cell_type": "code",
   "execution_count": null,
   "id": "e3e9ebba",
   "metadata": {},
   "outputs": [],
   "source": [
    "Q1- Explain the following with an example-\n",
    "a) Artificial Intelligence\n",
    "b) Machine Learning,\n",
    "c) Deep Learning\n",
    "Ans1. a) Artificial Intelligence (AI) is the field of computer science that aims to create machines that can perform tasks that usually require human intelligence, such as learning, problem-solving, decision-making, and natural language processing.\n",
    "b) Machine Learning (ML) is a subfield of AI that uses algorithms and statistical models to enable machines to learn from data and improve their performance on a specific task. In ML, the machine is trained on a set of data, and then it can make predictions or decisions based on new data that it hasn't seen before.\n",
    "c) Deep Learning (DL) is a subset of machine learning that uses deep neural networks to learn from data. Deep neural networks are composed of multiple layers of interconnected nodes that process data and extract features at different levels of abstraction."
   ]
  },
  {
   "cell_type": "code",
   "execution_count": null,
   "id": "dc38f8ab",
   "metadata": {},
   "outputs": [],
   "source": [
    "Q2- What is supervised learning? List some examples of supervised learning?\n",
    "Ans2. Supervised learning is a type of machine learning in which an algorithm learns to make predictions or decisions based on labeled training data. Labeled data means that each example in the training data has a known target value or class label.\n",
    "\n",
    "Examples of supervised learning include:\n",
    "Image classification: In this task, the algorithm learns to classify images into different categories, such as identifying whether an image contains a cat or a dog.\n",
    "Spam filtering: In this task, the algorithm learns to classify email messages as either spam or not spam, based on labeled examples of spam and non-spam emails.\n"
   ]
  },
  {
   "cell_type": "code",
   "execution_count": null,
   "id": "aa45cf0f",
   "metadata": {},
   "outputs": [],
   "source": [
    "Q3- What is unsupervised learning? List some examples of unsupervised learning?\n",
    "Ans3. Unsupervised learning is a type of machine learning in which the algorithm learns to identify patterns or relationships in unlabeled data, without any specific target or outcome in mind. The goal of unsupervised learning is to discover hidden structures or insights in the data, such as clusters, groups, or anomalies, that can be used for further analysis or decision-making.\n",
    "\n",
    "Examples of unsupervised learning include:\n",
    "Clustering: In this task, the algorithm learns to group similar data points together into clusters, based on their similarities or distances.\n",
    "Dimensionality reduction: In this task, the algorithm learns to identify and extract the most important features or components of the data, reducing its complexity and allowing for easier analysis."
   ]
  },
  {
   "cell_type": "code",
   "execution_count": null,
   "id": "e0e689d0",
   "metadata": {},
   "outputs": [],
   "source": [
    "Q4.What is the difference between AI, ML, DL, and DS?\n",
    "Ans4. AI, or artificial intelligence, is a broad field that aims to create machines that can perform tasks that typically require human intelligence, such as learning, problem-solving, and decision-making.\n",
    "ML, or machine learning, is a subfield of AI that uses algorithms and statistical models to enable machines to learn from data and improve their performance on a specific task. ML algorithms can be either supervised, unsupervised, or semi-supervised, and they are used in a variety of applications, such as image recognition, speech recognition, natural language processing, and recommendation systems.\n",
    "DL, or deep learning, is a subset of machine learning that uses deep neural networks to learn from data. Deep neural networks are composed of multiple layers of interconnected nodes that process data and extract features at different levels of abstraction.\n",
    "DS, or data science, is a field that encompasses a range of techniques and tools for analyzing and interpreting data."
   ]
  },
  {
   "cell_type": "code",
   "execution_count": null,
   "id": "2dafadd4",
   "metadata": {},
   "outputs": [],
   "source": [
    "Q5.What are the main differences between supervised, unsupervised, and semi-supervised learning?\n",
    "Ans5. Supervised learning aims to learn a function that, given a sample of data and desired outputs, approximates a function that maps inputs to outputs.\n",
    "Semi-supervised learning aims to label unlabeled data points using knowledge learned from a small number of labeled data points.\n",
    "Unsupervised learning does not have (or need) any labeled outputs, so its goal is to infer the natural structure present within a set of data points."
   ]
  },
  {
   "cell_type": "code",
   "execution_count": null,
   "id": "26d76fb1",
   "metadata": {},
   "outputs": [],
   "source": [
    "Q6.What is train, test and validation split? Explain the importance of each term?\n",
    "Ans6.Training data is the set of the data on which the actual training takes place. \n",
    "Validation split helps to improve the model performance by fine-tuning the model after each epoch. \n",
    "The test set informs us about the final accuracy of the model after completing the training phase."
   ]
  },
  {
   "cell_type": "code",
   "execution_count": null,
   "id": "9509e5fd",
   "metadata": {},
   "outputs": [],
   "source": [
    "Q7- How can unsupervised learning be used in anomaly detection?\n",
    "Ans7. The most common version of anomaly detection is using the unsupervised approach. \n",
    "In there, we train a machine-learning model to fit to the normal behavior using an unlabeled dataset. \n",
    "In that process, we make an important assumption that the majority of the data in the training set are normal examples.\n"
   ]
  },
  {
   "cell_type": "code",
   "execution_count": null,
   "id": "7337d193",
   "metadata": {},
   "outputs": [],
   "source": [
    "Q8- List down some commonly used supervised learning algorithms and unsupervised learning algorithms?\n",
    "Ans8. The most commonly used Supervised Learning algorithms are decision tree, logistic regression, linear regression, support vector machine. The most commonly used Unsupervised Learning algorithms are k-means clustering, hierarchical clustering, and apriori algorithm"
   ]
  }
 ],
 "metadata": {
  "kernelspec": {
   "display_name": "Python 3 (ipykernel)",
   "language": "python",
   "name": "python3"
  },
  "language_info": {
   "codemirror_mode": {
    "name": "ipython",
    "version": 3
   },
   "file_extension": ".py",
   "mimetype": "text/x-python",
   "name": "python",
   "nbconvert_exporter": "python",
   "pygments_lexer": "ipython3",
   "version": "3.9.13"
  }
 },
 "nbformat": 4,
 "nbformat_minor": 5
}
